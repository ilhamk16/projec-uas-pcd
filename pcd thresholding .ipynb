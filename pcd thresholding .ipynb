{
 "cells": [
  {
   "cell_type": "code",
   "execution_count": null,
   "metadata": {},
   "outputs": [],
   "source": [
    "#import opencv\n",
    "import cv2\n",
    "\n",
    "#membaca gambar\n",
    "img = cv2.imread('saya.JPG',0)\n",
    "\n",
    "#thresholding binary\n",
    "ret, binary = cv2.threshold(img, 127, 255, cv2.THRESH_BINARY)\n",
    "\n",
    "#thresholding binary invert\n",
    "ret, binary_inv = cv2.threshold(img, 127, 255, cv2.THRESH_BINARY_INV)\n",
    "\n",
    "#thresholding trunch\n",
    "ret, trunch = cv2.threshold(img, 127, 255, cv2.THRESH_TRUNC)\n",
    "\n",
    "#thresholding to zero\n",
    "ret, tozero = cv2.threshold(img, 127, 255, cv2.THRESH_TOZERO)\n",
    "\n",
    "#thresholding to zero invert\n",
    "ret, tozero_inv = cv2.threshold(img, 127, 255, cv2.THRESH_TOZERO_INV)\n",
    "\n",
    "\n",
    "#menampikan gambar asli\n",
    "cv2.imshow('FOTO ASLI', img)\n",
    "\n",
    "#menampilkan gambar thresholding binary\n",
    "cv2.imshow('BINARY', binary)\n",
    "\n",
    "#menampilkan binary invert\n",
    "cv2.imshow('INVERT',binary_inv)\n",
    "\n",
    "#menampilkan trunch\n",
    "cv2.imshow('TRUNCH',trunch)\n",
    "\n",
    "#menampilkan tozero\n",
    "cv2.imshow('TO ZERO',tozero)\n",
    "\n",
    "#menampilkan tozero invert\n",
    "cv2.imshow('TO ZERO INVERT',tozero_inv)\n",
    "\n",
    "cv2.waitKey(0)\n",
    "cv2.destroyAllWindows()"
   ]
  },
  {
   "cell_type": "code",
   "execution_count": null,
   "metadata": {},
   "outputs": [],
   "source": []
  }
 ],
 "metadata": {
  "kernelspec": {
   "display_name": "Python 3",
   "language": "python",
   "name": "python3"
  },
  "language_info": {
   "codemirror_mode": {
    "name": "ipython",
    "version": 3
   },
   "file_extension": ".py",
   "mimetype": "text/x-python",
   "name": "python",
   "nbconvert_exporter": "python",
   "pygments_lexer": "ipython3",
   "version": "3.7.6"
  }
 },
 "nbformat": 4,
 "nbformat_minor": 4
}
